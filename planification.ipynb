{
 "cells": [
  {
   "cell_type": "markdown",
   "metadata": {},
   "source": [
    "# Planification\n",
    "\n",
    "## Value iteration vs Policy iteration\n",
    "\n",
    "_Ismael Bonneau_\n",
    "\n",
    "Dans ce TP, nous allons implémenter deux algorithmes de planification, qui sont **value iteration**, et **policy iteration**.\n",
    "\n",
    "Ces algorithmes sont utiles lorsque l'ont connait le MDP. Ce n'est donc pas à proprement parler du reinforcement learning, mais bien de la planification."
   ]
  },
  {
   "cell_type": "code",
   "execution_count": 5,
   "metadata": {},
   "outputs": [
    {
     "name": "stdout",
     "output_type": "stream",
     "text": [
      "The autoreload extension is already loaded. To reload it, use:\n",
      "  %reload_ext autoreload\n"
     ]
    }
   ],
   "source": [
    "import matplotlib\n",
    "import matplotlib.pyplot as plt\n",
    "import seaborn as sns\n",
    "matplotlib.use(\"TkAgg\")\n",
    "\n",
    "import pprint\n",
    "\n",
    "%matplotlib inline\n",
    "%load_ext autoreload\n",
    "%autoreload 2\n",
    "\n",
    "sns.set()\n",
    "\n",
    "pp = pprint.PrettyPrinter(indent=4)\n",
    "\n",
    "import numpy as np\n",
    "import gym\n",
    "import gridworld\n",
    "from gym import wrappers, logger"
   ]
  },
  {
   "cell_type": "code",
   "execution_count": 9,
   "metadata": {},
   "outputs": [
    {
     "name": "stdout",
     "output_type": "stream",
     "text": [
      "Nombre d'etats :  11\n",
      "Nombre de transitions :  4\n",
      "Nombre d'états non terminaux:  9\n"
     ]
    }
   ],
   "source": [
    "#import Agent\n",
    "\n",
    "env = gym.make(\"gridworld-v0\")\n",
    "FPS = 0.0001\n",
    "env.seed(0)  # Initialise le seed du pseudo-random\n",
    "\n",
    "# Faire un fichier de log sur plusieurs scenarios\n",
    "outdir = 'gridworld-v0/random-agent-results'\n",
    "envm = wrappers.Monitor(env, directory=outdir, force=True, video_callable=False)\n",
    "env.setPlan(\"gridworldPlans/plan0.txt\", {0: -0.001, 3: 1, 4: 1, 5: -1, 6: -1})\n",
    "\n",
    "episode_count = 100\n",
    "\n",
    "gamma = 0.99\n",
    "\n",
    "statedic, mdp = env.getMDP()  # recupere le mdp : statedic\n",
    "print(\"Nombre d'etats : \",len(statedic))  # nombre d'etats ,statedic : etat-> numero de l'etat\n",
    "states, transitions = list(mdp.items())[0]\n",
    "print(\"Nombre de transitions : \", len(transitions))\n",
    "print(\"Nombre d'états non terminaux: \", len(env.P))"
   ]
  },
  {
   "cell_type": "markdown",
   "metadata": {},
   "source": [
    "## Policy iteration\n",
    "\n",
    "blaaablabla expliquer"
   ]
  },
  {
   "cell_type": "code",
   "execution_count": null,
   "metadata": {},
   "outputs": [],
   "source": []
  },
  {
   "cell_type": "markdown",
   "metadata": {},
   "source": [
    "## Value iteration\n",
    "\n",
    "blaaablabla expliquer"
   ]
  },
  {
   "cell_type": "code",
   "execution_count": null,
   "metadata": {},
   "outputs": [],
   "source": []
  }
 ],
 "metadata": {
  "kernelspec": {
   "display_name": "Python 3",
   "language": "python",
   "name": "python3"
  },
  "language_info": {
   "codemirror_mode": {
    "name": "ipython",
    "version": 3
   },
   "file_extension": ".py",
   "mimetype": "text/x-python",
   "name": "python",
   "nbconvert_exporter": "python",
   "pygments_lexer": "ipython3",
   "version": "3.7.1"
  }
 },
 "nbformat": 4,
 "nbformat_minor": 2
}
