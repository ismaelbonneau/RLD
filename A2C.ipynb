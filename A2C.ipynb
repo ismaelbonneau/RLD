{
 "cells": [
  {
   "cell_type": "markdown",
   "metadata": {},
   "source": [
    "# Actor-critic methods\n",
    "\n",
    "## Principe d'actor critic\n",
    "\n",
    "## A2C (l'algorithme que l'on va implémenter)\n",
    "\n",
    "\n",
    "## Appliquons cela sur un petit jeu simple, Mountain Car \n",
    "\n",
    "Doc et code source <a href=\"https://github.com/openai/gym/wiki/MountainCar-v0\">ici</a>\n",
    "\n",
    "Ce jeu est disponible dans l'environnement gym. Le principe est plutôt simple: faire grimper une colline à une voiture. La voiture n'est pas capable de monter en une seule fois: il faut avancer et reculer au fur et à mesure pour prendre de l'élan et réussir à monter. Le jeu se termine quand la voiture a atteint le drapeau, ou si la voiture n'a pas réussi après 200 itérations\n",
    "\n",
    "Ce jeu est modélisé par des états codés comme un vecteur en 2 dimensions modélisant 2 mesures physiques: position de la voiture en x, et vitesse. Trois actions possible: bouger d'un cran vers la droite, bouger d'un cran vers la gauche, ne rien faire.\n",
    "\n",
    "<img src=\"images/mountaincar.gif\" width=\"500\">\n",
    "\n",
    "Configurons l'environnement Mountain Car-V0 avec gym:"
   ]
  },
  {
   "cell_type": "code",
   "execution_count": null,
   "metadata": {},
   "outputs": [],
   "source": []
  }
 ],
 "metadata": {
  "kernelspec": {
   "display_name": "Python 3",
   "language": "python",
   "name": "python3"
  },
  "language_info": {
   "codemirror_mode": {
    "name": "ipython",
    "version": 3
   },
   "file_extension": ".py",
   "mimetype": "text/x-python",
   "name": "python",
   "nbconvert_exporter": "python",
   "pygments_lexer": "ipython3",
   "version": "3.7.4"
  }
 },
 "nbformat": 4,
 "nbformat_minor": 2
}
