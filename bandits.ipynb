{
 "cells": [
  {
   "cell_type": "markdown",
   "metadata": {},
   "source": [
    "# Bandits (UCB & LinUCB)\n",
    "\n",
    "_Ismaël Bonneau_ \n",
    "\n",
    "# Problème avec le regret (à régler quand j'aurais le tmps)\n",
    "\n",
    "### But:\n",
    "\n",
    "Ce TP a pour objectif d'expérimenter les modèles **UCB** et **LinUCB** vus en cours pour\n",
    "de la sélection de publicité en ligne.\n",
    "\n",
    "Un fichier de données pour la sélection de publicité en ligne a été préparé pour expérimenter les modèles. Ce fichier contient les\n",
    "contextes (profils d'articles) et les taux de clic sur les publicités de 10 annonceurs pour\n",
    "5000 articles (1 par ligne):\n",
    "- <numero de l'article>:<représentation de l'article en 5 dimensions séparées par des \";\">:<taux de\n",
    "clics sur les publicités de 10 annonceurs séparés par des \";\">\n",
    "\n",
    "Pour chaque visite, l'objectif est de choisir la publicité d'un des 10 annonceurs permettant d'engrenger le plus fort taux de clics.\n",
    "\n",
    "On modélise cette situation comme un problème de **bandit manchot** à 10 bras donc, un par annonceur.\n",
    "\n",
    "On calculera pour chaque algorithme l'évolution du **regret** avec le nombre d'itérations.\n",
    "\n",
    "<a href=\"http://dac.lip6.fr/master/rladl/\">Site du module d'enseignement</a>"
   ]
  },
  {
   "cell_type": "code",
   "execution_count": 1,
   "metadata": {},
   "outputs": [],
   "source": [
    "import numpy as np\n",
    "import pandas as pd\n",
    "import random\n",
    "import matplotlib.pyplot as plt\n",
    "import seaborn as sns\n",
    "\n",
    "%matplotlib inline\n",
    "\n",
    "sns.set()\n",
    "\n",
    "\n",
    "datafile = \"CTR.txt\"\n",
    "\n",
    "with open(datafile, \"r\") as f:\n",
    "    tiascompris = f.readlines()\n",
    "    features = np.zeros((len(tiascompris), 5))\n",
    "    clics = np.zeros((len(tiascompris), 10))\n",
    "\n",
    "    i = 0\n",
    "    for line in tiascompris:\n",
    "        features[i] = np.array([float(x) for x in line.strip().split(\":\")[1].split(\";\")])\n",
    "        clics[i] = np.array([float(x) for x in line.strip().split(\":\")[2].split(\";\")])\n",
    "        i += 1\n",
    "        \n",
    "assert clics.shape[0] == features.shape[0]"
   ]
  },
  {
   "cell_type": "code",
   "execution_count": 2,
   "metadata": {},
   "outputs": [
    {
     "name": "stdout",
     "output_type": "stream",
     "text": [
      "(5000, 10) (5000, 5)\n"
     ]
    }
   ],
   "source": [
    "print(clics.shape, features.shape)"
   ]
  },
  {
   "cell_type": "markdown",
   "metadata": {},
   "source": [
    "#### Calcul du meilleur annonceur (meilleure moyenne) sur les 5000 articles\n",
    "\n",
    "Ceci va servir au calcul du regret"
   ]
  },
  {
   "cell_type": "code",
   "execution_count": 3,
   "metadata": {},
   "outputs": [
    {
     "name": "stdout",
     "output_type": "stream",
     "text": [
      "Meilleur annonceur sur les 5000 articles: 3 . mu: 0.2679270062093166\n"
     ]
    }
   ],
   "source": [
    "best = np.argmax(np.mean(clics, axis=0))\n",
    "mu_star = np.mean(clics, axis=0)[best]\n",
    "print(\"Meilleur annonceur sur les 5000 articles:\", best, \". mu:\", mu_star)"
   ]
  },
  {
   "cell_type": "code",
   "execution_count": 4,
   "metadata": {},
   "outputs": [],
   "source": [
    "def regret(n, rewards):\n",
    "    return (mu_star * n) - np.sum(rewards)"
   ]
  },
  {
   "cell_type": "markdown",
   "metadata": {},
   "source": [
    "## Baselines\n",
    "\n",
    "Quelques baselines pour commencer\n",
    "\n",
    "### Stratégie aléatoire\n",
    "\n",
    "A chaque itération, on choisit un annonceur au hasard selon une loi uniforme."
   ]
  },
  {
   "cell_type": "code",
   "execution_count": 5,
   "metadata": {},
   "outputs": [
    {
     "name": "stdout",
     "output_type": "stream",
     "text": [
      "Meilleur annonceur:  3 taux de clics estimé: 0.26214459420865033\n"
     ]
    }
   ],
   "source": [
    "epochs = 5000\n",
    "\n",
    "#STRATEGIE ALEATOIRE\n",
    "\n",
    "Q = np.zeros(clics.shape[1])\n",
    "nmbredefoischoisie = np.zeros(clics.shape[1])\n",
    "regrets = []\n",
    "\n",
    "# Choisir chaque annonceur au moins 1 fois\n",
    "for iteration in range(clics.shape[1]):\n",
    "    Q[iteration] += clics[iteration][iteration]\n",
    "    nmbredefoischoisie[iteration] += 1\n",
    "\n",
    "for iteration in range(clics.shape[1], epochs):\n",
    "    # tirer un annonceur de manière aléatoire\n",
    "    a = np.random.randint(0,10)\n",
    "    Q[a] += clics[iteration][a]\n",
    "    nmbredefoischoisie[a] += 1\n",
    "    \n",
    "    reg = regret(iteration, Q)\n",
    "    regrets.append(reg)\n",
    "\n",
    "mu = np.argmax(Q / nmbredefoischoisie)\n",
    "\n",
    "print(\"Meilleur annonceur: \", mu, \"taux de clics estimé:\", (Q / nmbredefoischoisie)[mu])"
   ]
  },
  {
   "cell_type": "code",
   "execution_count": 6,
   "metadata": {},
   "outputs": [
    {
     "data": {
      "text/plain": [
       "array([0.01609647, 0.08114577, 0.00663309, 0.26214459, 0.03444318,\n",
       "       0.00302482, 0.10329609, 0.035665  , 0.0043406 , 0.24737197])"
      ]
     },
     "execution_count": 6,
     "metadata": {},
     "output_type": "execute_result"
    }
   ],
   "source": [
    "Q / nmbredefoischoisie"
   ]
  },
  {
   "cell_type": "code",
   "execution_count": 8,
   "metadata": {},
   "outputs": [
    {
     "data": {
      "image/png": "[encoded data removed]",
      "text/plain": [
       "<Figure size 432x288 with 1 Axes>"
      ]
     },
     "metadata": {
      "needs_background": "light"
     },
     "output_type": "display_data"
    }
   ],
   "source": [
    "plt.title(\"Regret cumulé pour la stratégie aléatoire\")\n",
    "plt.xlabel(\"iterations\")\n",
    "plt.ylabel(\"regret\")\n",
    "plt.plot(range(epochs-clics.shape[1]), np.cumsum(np.array(regrets)), label=\"cumulative regret\")\n",
    "plt.legend()\n",
    "plt.show()"
   ]
  },
  {
   "cell_type": "markdown",
   "metadata": {},
   "source": [
    "### Stratégie static best:\n",
    "\n",
    "A chaque itération, on choisit l'annonceur avec le meilleur taux de clics cumulé."
   ]
  },
  {
   "cell_type": "code",
   "execution_count": 31,
   "metadata": {},
   "outputs": [
    {
     "name": "stdout",
     "output_type": "stream",
     "text": [
      "Meilleur annonceur:  3 taux de clics estimé: 0.268175732048962\n"
     ]
    }
   ],
   "source": [
    "Q = np.zeros(clics.shape[1])\n",
    "nmbredefoischoisie = np.zeros(clics.shape[1])\n",
    "regrets = []\n",
    "\n",
    "for iteration in range(clics.shape[1]):\n",
    "    Q[iteration] += clics[iteration][iteration]\n",
    "    nmbredefoischoisie[iteration] += 1\n",
    "\n",
    "for iteration in range(clics.shape[1], epochs):\n",
    "\n",
    "    #a = np.argmax(Q)\n",
    "    a = np.argmax(np.sum(clics[:iteration+1], axis=0))\n",
    "    \n",
    "    Q[a] += clics[iteration][a]\n",
    "    nmbredefoischoisie[a] += 1\n",
    "    reg = regret(iteration, Q)\n",
    "    regrets.append(reg)\n",
    "\n",
    "mu = np.argmax(Q / nmbredefoischoisie)\n",
    "\n",
    "print(\"Meilleur annonceur: \", mu, \"taux de clics estimé:\", (Q / nmbredefoischoisie)[mu])"
   ]
  },
  {
   "cell_type": "code",
   "execution_count": 32,
   "metadata": {},
   "outputs": [
    {
     "data": {
      "image/png": "[encoded data removed]",
      "text/plain": [
       "<Figure size 432x288 with 1 Axes>"
      ]
     },
     "metadata": {
      "needs_background": "light"
     },
     "output_type": "display_data"
    }
   ],
   "source": [
    "plt.title(\"Regret cumulé pour la stratégie Static Best\")\n",
    "plt.xlabel(\"iterations\")\n",
    "plt.ylabel(\"regret\")\n",
    "plt.plot(range(epochs-clics.shape[1]), np.cumsum(np.array(regrets)), label=\"cumulative regret\")\n",
    "plt.legend()\n",
    "plt.show()"
   ]
  },
  {
   "cell_type": "markdown",
   "metadata": {},
   "source": [
    "## Des stratégies plus intelligentes...\n",
    "\n",
    "### Stratégie UCB\n",
    "\n",
    "Choisir à chaque itération la meilleure variable qui n'a pas été assez explorée: ajoute un biais d'exploration dans l'algorithme. Permet théoriquement de bornet le regret de façon logarithmique."
   ]
  },
  {
   "cell_type": "code",
   "execution_count": 43,
   "metadata": {},
   "outputs": [
    {
     "name": "stdout",
     "output_type": "stream",
     "text": [
      "Meilleur annonceur:  3 taux de clics estimé: 0.27265991818727253\n"
     ]
    }
   ],
   "source": [
    "rewards = np.zeros(clics.shape[1])\n",
    "nmbredefoischoisie = np.zeros(clics.shape[1])\n",
    "regrets = []\n",
    "\n",
    "alpha = 2.\n",
    "\n",
    "for iteration in range(clics.shape[1]):\n",
    "    rewards[iteration] += clics[iteration][iteration]\n",
    "    nmbredefoischoisie[iteration] += 1\n",
    "\n",
    "for iteration in range(clics.shape[1], epochs):\n",
    "    ucb = np.sqrt(alpha * np.log(iteration) / np.log(nmbredefoischoisie + 1))\n",
    "    indices = values + ucb\n",
    "    a = np.argmax(indices)\n",
    "\n",
    "    rewards[a] += clics[iteration][a]\n",
    "    nmbredefoischoisie[a] += 1\n",
    "    nb = nmbredefoischoisie[a]\n",
    "    values[a] = ((nb - 1) / float(nb)) * values[a] + (1 / float(nb)) * clics[iteration][a]\n",
    "    \n",
    "    reg = regret(iteration, rewards)\n",
    "    regrets.append(reg)\n",
    "\n",
    "mu = np.argmax(rewards / nmbredefoischoisie)\n",
    "\n",
    "print(\"Meilleur annonceur: \", mu, \"taux de clics estimé:\", (Q / nmbredefoischoisie)[mu])"
   ]
  },
  {
   "cell_type": "code",
   "execution_count": 44,
   "metadata": {},
   "outputs": [
    {
     "data": {
      "image/png": "[encoded data removed]",
      "text/plain": [
       "<Figure size 432x288 with 1 Axes>"
      ]
     },
     "metadata": {
      "needs_background": "light"
     },
     "output_type": "display_data"
    }
   ],
   "source": [
    "plt.title(\"Regret cumulé pour la stratégie UCB\")\n",
    "plt.xlabel(\"iterations\")\n",
    "plt.ylabel(\"regret\")\n",
    "plt.plot(range(epochs-clics.shape[1]), np.cumsum(np.array(regrets)), label=\"cumulative regret\")\n",
    "plt.legend()\n",
    "plt.show()"
   ]
  },
  {
   "cell_type": "markdown",
   "metadata": {},
   "source": [
    "### Stratégie LinUCB\n",
    "\n",
    "Cet algorithme propose de prendre en compte le contexte de la décision, qui peut être très utile pour prévoir les variations des taux observés. On dispose justement des contextes de décision, chaque article étant représenté par un vecteur de features en 5 dimensions.\n",
    "\n",
    "On a: \n",
    "\n",
    "- 5000 observations (articles)\n",
    "- 5 features (descripteurs d'article)\n",
    "- 10 bras (annonceurs)"
   ]
  },
  {
   "cell_type": "code",
   "execution_count": 53,
   "metadata": {},
   "outputs": [
    {
     "name": "stdout",
     "output_type": "stream",
     "text": [
      "Meilleur annonceur:  3 taux de clics estimé: 0.3328848236280366\n"
     ]
    }
   ],
   "source": [
    "rewards = np.zeros(clics.shape[1])\n",
    "nmbredefoischoisie = np.zeros(clics.shape[1])\n",
    "regrets = []\n",
    "\n",
    "alpha = 2.\n",
    "\n",
    "A = {} # contiendra les matrices A pour chaque arm\n",
    "b = {} # contiendra les vecteurs b pour chaque arm\n",
    "\n",
    "for iteration in range(epochs):\n",
    "    # observer le contexte courant: (description de l'article)\n",
    "    context = features[iteration]\n",
    "    \n",
    "    P = np.zeros(clics.shape[1])\n",
    "    for arm in range(clics.shape[1]):\n",
    "        # Si l'annonceur n'a pas encore été choisi:\n",
    "        if nmbredefoischoisie[arm] == 0:\n",
    "            A[arm] = np.identity(features.shape[1])\n",
    "            b[arm] = np.zeros(features.shape[1])\n",
    "        theta = np.linalg.inv(A[arm]).dot(b[arm]).reshape(-1, 1)\n",
    "        tmp = np.sqrt(context.reshape(-1, 1).T @ np.linalg.inv(A[arm]) @ context.reshape(-1, 1)).squeeze()\n",
    "        P[arm] = theta.T.dot(context.reshape(-1, 1)) + (alpha * tmp)\n",
    "        \n",
    "    # choisir le bras (annonceur) qui maximise P et observer le reward:\n",
    "    a = np.argmax(P)\n",
    "    reward = clics[iteration][a]\n",
    "    \n",
    "    rewards[a] += reward\n",
    "    nmbredefoischoisie[a] += 1\n",
    "    # mettre à jour A et b pour le bras choisi\n",
    "    A[a] = A[a] + context.reshape(-1, 1) @ context.reshape(-1, 1).T\n",
    "    b[a] = b[a] + (reward * context)\n",
    "    \n",
    "    reg = regret(iteration, rewards)\n",
    "    regrets.append(reg)\n",
    "    \n",
    "mu = np.argmax(rewards / nmbredefoischoisie)\n",
    "\n",
    "print(\"Meilleur annonceur: \", mu, \"taux de clics estimé:\", (rewards / nmbredefoischoisie)[mu])"
   ]
  },
  {
   "cell_type": "code",
   "execution_count": 54,
   "metadata": {},
   "outputs": [
    {
     "data": {
      "image/png": "[encoded data removed]",
      "text/plain": [
       "<Figure size 432x288 with 1 Axes>"
      ]
     },
     "metadata": {
      "needs_background": "light"
     },
     "output_type": "display_data"
    }
   ],
   "source": [
    "plt.title(\"Regret cumulé pour la stratégie linUCB\")\n",
    "plt.xlabel(\"iterations\")\n",
    "plt.ylabel(\"regret\")\n",
    "plt.plot(range(epochs), np.cumsum(regrets), label=\"cumulative regret\")\n",
    "plt.legend()\n",
    "plt.show()"
   ]
  }
 ],
 "metadata": {
  "kernelspec": {
   "display_name": "Python 3",
   "language": "python",
   "name": "python3"
  },
  "language_info": {
   "codemirror_mode": {
    "name": "ipython",
    "version": 3
   },
   "file_extension": ".py",
   "mimetype": "text/x-python",
   "name": "python",
   "nbconvert_exporter": "python",
   "pygments_lexer": "ipython3",
   "version": "3.7.4"
  }
 },
 "nbformat": 4,
 "nbformat_minor": 2
}
