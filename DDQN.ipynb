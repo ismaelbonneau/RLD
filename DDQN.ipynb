{
 "cells": [
  {
   "cell_type": "markdown",
   "metadata": {},
   "source": [
    "# Dueling Double DQN\n",
    "\n",
    "_Ismaël Bonneau_\n",
    "\n",
    "\n",
    "## Modèle & architecture\n",
    "\n",
    "Comme indiqué dans le titre, ce modèle est une amélioration du **DQN**. Il reprend tous ses principes, comme le experience replay, le remplacement de la target tous les ${C}$ pas de temps, mais diffère en un point. \n",
    "\n",
    "Avec un **DQN**, notre réseau prend ${\\phi(s)}$ en entrée et sort ${Q(s,a)}$ les valeurs des actions pour cet état ${s}$. Généralement, dans le cas d'un jeu, ${\\phi(s)}$ correspond à un réseau de convolution (CNN).\n",
    "\n",
    "Avec un **DDQN**, on prend ${\\phi(s)}$ et on le traite avec 2 réseaux différents, pour produire deux sorties:\n",
    "- ${V(s)}$ qui est la \"valeur\" de l'état, ou combien il est intéressant d'être dans cet état.\n",
    "- ${A(s, a)}$ qui est la fonction avantage (rappel: <a href=\"\">actor-critic</a>) et qui indique combien il est avantageux, quand on se trouve dans l'état ${s}$, d'effectuer l'action ${a}$ par rapport aux autres actions.\n",
    "\n",
    "Ces deux valeurs son ensuite combinées pour former ${Q(s,a)}$. On n'utilise pas la somme pour combiner les deux (ce qui normalement est bien la formule: ${Q(s,a) = V(s) + A(s,a)}$ mais une autre formule, ${Q(s,a) = V(s) + (A(s,a) - \\frac{1}{|A|} \\sum_{a}{A(s,a)})}$. (Dire pourquoi)\n",
    "\n",
    "### Architecture du réseau de neurones:\n",
    "\n",
    "L'architecture du modèle est composée d'un premier réseau de convolution, qui va prendre en entrée les frames du jeu (généralement stackées par groupe, nous verrons ça plus tard)\n",
    "\n",
    "<img src=\"images/dueling-q-network.png\" width=\"600\">"
   ]
  },
  {
   "cell_type": "code",
   "execution_count": 1,
   "metadata": {},
   "outputs": [],
   "source": [
    "import numpy as np \n",
    "import matplotlib.pyplot as plt\n",
    "import seaborn as sns\n",
    "\n",
    "import torch\n",
    "import torch.nn as nn\n",
    "\n",
    "sns.set()\n",
    "%matplotlib inline\n",
    "%load_ext autoreload\n",
    "%autoreload 2"
   ]
  },
  {
   "cell_type": "markdown",
   "metadata": {},
   "source": [
    "## Nous allons appliquer ce modèle sur un jeu bien connu, super Mario bros.\n",
    "\n",
    "Ce jeu n'est pas disponible dans l'environnement gym par défaut. Il doit être installé à part (avec d'autres packages comme pyNes)\n",
    "\n",
    "<img src=\"images/mario.gif\" width=\"400\">"
   ]
  },
  {
   "cell_type": "code",
   "execution_count": 2,
   "metadata": {},
   "outputs": [],
   "source": [
    "from nes_py.wrappers import JoypadSpace\n",
    "import gym_super_mario_bros\n",
    "from gym_super_mario_bros.actions import SIMPLE_MOVEMENT\n",
    "import pprint\n",
    "pp = pprint.PrettyPrinter(indent=4)\n",
    "\n",
    "env = gym_super_mario_bros.make('SuperMarioBros-v0')\n",
    "env = JoypadSpace(env, SIMPLE_MOVEMENT)"
   ]
  },
  {
   "cell_type": "code",
   "execution_count": 4,
   "metadata": {},
   "outputs": [
    {
     "name": "stdout",
     "output_type": "stream",
     "text": [
      "frame shape:  (240, 256, 3)\n",
      "game status: \n",
      "{   'coins': 0,\n",
      "    'flag_get': False,\n",
      "    'life': 2,\n",
      "    'score': 0,\n",
      "    'stage': 1,\n",
      "    'status': 'small',\n",
      "    'time': 400,\n",
      "    'world': 1,\n",
      "    'x_pos': 40,\n",
      "    'x_pos_screen': 40,\n",
      "    'y_pos': 79}\n"
     ]
    },
    {
     "data": {
      "image/png": "[encoded data removed]",
      "text/plain": [
       "<Figure size 432x288 with 1 Axes>"
      ]
     },
     "metadata": {
      "needs_background": "light"
     },
     "output_type": "display_data"
    }
   ],
   "source": [
    "state = env.reset()\n",
    "state, reward, done, info = env.step(env.action_space.sample())\n",
    "\n",
    "print(\"frame shape: \", state.shape)\n",
    "print(\"game status: \")\n",
    "pp.pprint(info)\n",
    "plt.imshow(state)\n",
    "plt.axis('off')\n",
    "plt.show()"
   ]
  },
  {
   "cell_type": "markdown",
   "metadata": {},
   "source": [
    "## Commençons tous les pré-traitements préalables\n",
    "\n",
    "Il faut commencer par traiter les frames. Comme on l'a vu, un état du jeu correspond à une frame de dimension ${(240, 256, 3)}$ (3 car en couleur). Il faut pré-traiter ces images pour les donner en entrée à un petit réseau de convolution ${\\phi}$ qui produira ${\\phi(s)}$"
   ]
  },
  {
   "cell_type": "code",
   "execution_count": 5,
   "metadata": {},
   "outputs": [],
   "source": [
    "def rgb2gray(rgb):\n",
    "    r, g, b = rgb[:,:,0], rgb[:,:,1], rgb[:,:,2]\n",
    "    gray = 0.2989 * r + 0.5870 * g + 0.1140 * b\n",
    "    return gray\n",
    "\n",
    "grey = rgb2gray(state)"
   ]
  },
  {
   "cell_type": "markdown",
   "metadata": {},
   "source": [
    "#### Passage en noir et blanc:\n",
    "\n",
    "On enlève de l'information inutile et on passe de ${(240, 256, 3)}$ à ${(240, 256)}$ (3 fois moins de valeurs)."
   ]
  },
  {
   "cell_type": "code",
   "execution_count": 18,
   "metadata": {},
   "outputs": [
    {
     "data": {
      "image/png": "[encoded data removed]",
      "text/plain": [
       "<Figure size 720x360 with 2 Axes>"
      ]
     },
     "metadata": {
      "needs_background": "light"
     },
     "output_type": "display_data"
    }
   ],
   "source": [
    "fig = plt.figure(figsize=(10, 5))\n",
    "ax1 = fig.add_subplot(1,2,1)\n",
    "ax1.axis('off')\n",
    "ax1.imshow(state)\n",
    "ax2 = fig.add_subplot(1,2,2)\n",
    "ax2.axis('off')\n",
    "ax2.imshow(grey, cmap=\"gray\")\n",
    "plt.show()"
   ]
  },
  {
   "cell_type": "markdown",
   "metadata": {},
   "source": [
    "Recadrage: on va \"crop\" l'image (on peut se débarasser du haut du ciel par exemple, avec le score et les vies) et redimensionner l'image qui est trop grande. Peut être se ramener à du ${(64, 64)}$?"
   ]
  },
  {
   "cell_type": "code",
   "execution_count": null,
   "metadata": {},
   "outputs": [],
   "source": []
  }
 ],
 "metadata": {
  "kernelspec": {
   "display_name": "Python 3",
   "language": "python",
   "name": "python3"
  },
  "language_info": {
   "codemirror_mode": {
    "name": "ipython",
    "version": 3
   },
   "file_extension": ".py",
   "mimetype": "text/x-python",
   "name": "python",
   "nbconvert_exporter": "python",
   "pygments_lexer": "ipython3",
   "version": "3.7.4"
  }
 },
 "nbformat": 4,
 "nbformat_minor": 2
}
