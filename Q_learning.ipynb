{
 "cells": [
  {
   "cell_type": "markdown",
   "metadata": {},
   "source": [
    "# TP 3: Q-learning\n",
    "\n",
    "_Ismaël Bonneau_\n",
    "\n",
    "Ce TP sert de compte-rendu et d'explication à la fois.\n",
    "\n",
    "Algorithmes implémentés:\n",
    "\n",
    "- Q-learning en version basique\n",
    "- Q-learning en version SARSA"
   ]
  },
  {
   "cell_type": "code",
   "execution_count": 7,
   "metadata": {},
   "outputs": [
    {
     "name": "stdout",
     "output_type": "stream",
     "text": [
      "The autoreload extension is already loaded. To reload it, use:\n",
      "  %reload_ext autoreload\n"
     ]
    }
   ],
   "source": [
    "import numpy as np\n",
    "import gym\n",
    "import gridworld\n",
    "from gym import wrappers, logger\n",
    "\n",
    "import matplotlib\n",
    "import matplotlib.pyplot as plt\n",
    "\n",
    "%matplotlib inline\n",
    "%load_ext autoreload\n",
    "%autoreload 2"
   ]
  },
  {
   "cell_type": "markdown",
   "metadata": {},
   "source": [
    "## Nous allons l'appliquer sur un jeu simple, GridWorld\n",
    "\n",
    "Il s'agit d'un petit jeu en labyrinthe simple dans lequel un personnage (carré) doit rejoindre un endroit d'arrivée et évitant les flammes. Un reward positif est donné à l'arrivée, un négatif au passage dans les flammes et un reward négatif très petit (${-0.01}$ par exemple est donné aux autres cases, cela pour limiter le temps passé à cheminer à traver le labyrinthe.\n",
    "\n",
    "Configurons l'environnement Gym pour gridworld-v0. Il a besoin de 2 choses:\n",
    "\n",
    "- Un plan (le numéro 4 par exemple, qui est déjà assez complexe)\n",
    "- Des valeurs associées à chaque type de case. 0 correspond à une case vide, 1 correspond à\n",
    "un mur (pas de reward associé car impossible de s'y déplacer), 2 correspond au joueur,\n",
    "3 correspond à une case verte, 4 une case jaune, 5 une case rouge et 6 une case rose"
   ]
  },
  {
   "cell_type": "code",
   "execution_count": 6,
   "metadata": {},
   "outputs": [
    {
     "data": {
      "image/png": "[encoded data removed]",
      "text/plain": [
       "<Figure size 432x288 with 1 Axes>"
      ]
     },
     "metadata": {
      "needs_background": "light"
     },
     "output_type": "display_data"
    }
   ],
   "source": [
    "env = gym.make(\"gridworld-v0\")\n",
    "outdir = 'TP3/qlearning-agent-results'\n",
    "envm = wrappers.Monitor(env, directory=outdir, force=True, video_callable=False)\n",
    "env.setPlan(\"gridworldPlans/plan4.txt\", {0: -0.001, 3: 1, 4: 1, 5: -1, 6: -1}) # initialiser le plan\n",
    "env.seed(0)\n",
    "lol = env.render() #visualiser le plan"
   ]
  },
  {
   "cell_type": "code",
   "execution_count": 15,
   "metadata": {},
   "outputs": [],
   "source": [
    "obs = env.reset()"
   ]
  },
  {
   "cell_type": "markdown",
   "metadata": {},
   "source": [
    "### Nous allons définir deux classes d'agent\n",
    "\n",
    "Un agent prenant des décisions complètement aléatoire, et un agent faisant du Q-learning. Cela servira comme point de comparaison."
   ]
  },
  {
   "cell_type": "code",
   "execution_count": 8,
   "metadata": {},
   "outputs": [],
   "source": [
    "class RandomAgent(object):\n",
    "    \"\"\"The world's simplest agent!\"\"\"\n",
    "    def __init__(self, action_space):\n",
    "        self.action_space = action_space\n",
    "\n",
    "    def act(self, observation, reward, done):\n",
    "        return self.action_space.sample()"
   ]
  },
  {
   "cell_type": "code",
   "execution_count": 18,
   "metadata": {},
   "outputs": [],
   "source": [
    "class Qagent(object):\n",
    "    \"\"\" Q-learning agent \"\"\"\n",
    "    def __init__(self, env, gamma=0.99, alpha=0.8, epsilon=0.1):\n",
    "        self.env = env\n",
    "        self.Q = {} # initialement vide: on ne connait rien\n",
    "\n",
    "        self.alpha = alpha\n",
    "        self.gamma = gamma\n",
    "        self.epsilon = epsilon\n",
    "        self.last_action = None\n",
    "\n",
    "    def register_state(self, observation):\n",
    "        if observation not in self.Q:\n",
    "            self.Q[observation] = {a: 0 for a in range(self.env.action_space.n)}\n",
    "                \n",
    "    def act(self, observation, reward, done):\n",
    "        \"\"\" On parle pas chinois ici \"\"\"\n",
    "        state = self.env.state2str(observation)\n",
    "        self.register_state(state)\n",
    "        # epsilon-greedy:\n",
    "        if random.random() < self.epsilon:\n",
    "            # sampler une action au hasard\n",
    "            chosen_action = self.env.action_space.sample()\n",
    "        else:\n",
    "            # sinon, effectuer l'action conforme à la politique\n",
    "            chosen_action = np.argmax(self.Q[state])\n",
    "\n",
    "        self.last_action = chosen_action\n",
    "        self.last_state = state\n",
    "        return chosen_action\n",
    "\n",
    "    def improve(self, observation, reward, done):\n",
    "        \"\"\" Hassoul y'a qu'le charbon qui paie \"\"\"\n",
    "        new_state = self.env.state2str(observation)\n",
    "        self.register_state(new_state)\n",
    "        LPBDTLR = self.gamma * max(self.Q[new_state].items(), key=operator.itemgetter(1))[1]\n",
    "        self.Q[self.last_state][self.last_action] += self.alpha * (reward + LPBDTLR - self.Q[self.last_state][self.last_action])"
   ]
  }
 ],
 "metadata": {
  "kernelspec": {
   "display_name": "Python 3",
   "language": "python",
   "name": "python3"
  },
  "language_info": {
   "codemirror_mode": {
    "name": "ipython",
    "version": 3
   },
   "file_extension": ".py",
   "mimetype": "text/x-python",
   "name": "python",
   "nbconvert_exporter": "python",
   "pygments_lexer": "ipython3",
   "version": "3.7.4"
  }
 },
 "nbformat": 4,
 "nbformat_minor": 2
}
